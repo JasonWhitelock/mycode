{
 "cells": [
  {
   "cell_type": "code",
   "execution_count": 1,
   "id": "27f7c95b-146f-463c-9bbb-490d87f826cc",
   "metadata": {},
   "outputs": [
    {
     "data": {
      "text/plain": [
       "'1.9.3'"
      ]
     },
     "execution_count": 1,
     "metadata": {},
     "output_type": "execute_result"
    }
   ],
   "source": [
    "import scipy\n",
    "import scipy.constants\n",
    "scipy.__version__\n"
   ]
  },
  {
   "cell_type": "code",
   "execution_count": 2,
   "id": "95d1d59a-ee4e-408b-8487-0683c645d93c",
   "metadata": {},
   "outputs": [
    {
     "data": {
      "text/plain": [
       "3.141592653589793"
      ]
     },
     "execution_count": 2,
     "metadata": {},
     "output_type": "execute_result"
    }
   ],
   "source": [
    "# from the constants package\n",
    "scipy.constants.pi\n"
   ]
  },
  {
   "cell_type": "code",
   "execution_count": 3,
   "id": "b439bb0e-fc9d-4d51-b128-55ac8eaa5b79",
   "metadata": {},
   "outputs": [
    {
     "data": {
      "text/plain": [
       "['Avogadro',\n",
       " 'Boltzmann',\n",
       " 'Btu',\n",
       " 'Btu_IT',\n",
       " 'Btu_th',\n",
       " 'ConstantWarning',\n",
       " 'G',\n",
       " 'Julian_year',\n",
       " 'N_A',\n",
       " 'Planck',\n",
       " 'R',\n",
       " 'Rydberg',\n",
       " 'Stefan_Boltzmann',\n",
       " 'Wien',\n",
       " '__all__',\n",
       " '__builtins__',\n",
       " '__cached__',\n",
       " '__doc__',\n",
       " '__file__',\n",
       " '__loader__',\n",
       " '__name__',\n",
       " '__package__',\n",
       " '__path__',\n",
       " '__spec__',\n",
       " '_codata',\n",
       " '_constants',\n",
       " '_obsolete_constants',\n",
       " 'acre',\n",
       " 'alpha',\n",
       " 'angstrom',\n",
       " 'arcmin',\n",
       " 'arcminute',\n",
       " 'arcsec',\n",
       " 'arcsecond',\n",
       " 'astronomical_unit',\n",
       " 'atm',\n",
       " 'atmosphere',\n",
       " 'atomic_mass',\n",
       " 'atto',\n",
       " 'au',\n",
       " 'bar',\n",
       " 'barrel',\n",
       " 'bbl',\n",
       " 'blob',\n",
       " 'c',\n",
       " 'calorie',\n",
       " 'calorie_IT',\n",
       " 'calorie_th',\n",
       " 'carat',\n",
       " 'centi',\n",
       " 'codata',\n",
       " 'constants',\n",
       " 'convert_temperature',\n",
       " 'day',\n",
       " 'deci',\n",
       " 'degree',\n",
       " 'degree_Fahrenheit',\n",
       " 'deka',\n",
       " 'dyn',\n",
       " 'dyne',\n",
       " 'e',\n",
       " 'eV',\n",
       " 'electron_mass',\n",
       " 'electron_volt',\n",
       " 'elementary_charge',\n",
       " 'epsilon_0',\n",
       " 'erg',\n",
       " 'exa',\n",
       " 'exbi',\n",
       " 'femto',\n",
       " 'fermi',\n",
       " 'find',\n",
       " 'fine_structure',\n",
       " 'fluid_ounce',\n",
       " 'fluid_ounce_US',\n",
       " 'fluid_ounce_imp',\n",
       " 'foot',\n",
       " 'g',\n",
       " 'gallon',\n",
       " 'gallon_US',\n",
       " 'gallon_imp',\n",
       " 'gas_constant',\n",
       " 'gibi',\n",
       " 'giga',\n",
       " 'golden',\n",
       " 'golden_ratio',\n",
       " 'grain',\n",
       " 'gram',\n",
       " 'gravitational_constant',\n",
       " 'h',\n",
       " 'hbar',\n",
       " 'hectare',\n",
       " 'hecto',\n",
       " 'horsepower',\n",
       " 'hour',\n",
       " 'hp',\n",
       " 'inch',\n",
       " 'k',\n",
       " 'kgf',\n",
       " 'kibi',\n",
       " 'kilo',\n",
       " 'kilogram_force',\n",
       " 'kmh',\n",
       " 'knot',\n",
       " 'lambda2nu',\n",
       " 'lb',\n",
       " 'lbf',\n",
       " 'light_year',\n",
       " 'liter',\n",
       " 'litre',\n",
       " 'long_ton',\n",
       " 'm_e',\n",
       " 'm_n',\n",
       " 'm_p',\n",
       " 'm_u',\n",
       " 'mach',\n",
       " 'mebi',\n",
       " 'mega',\n",
       " 'metric_ton',\n",
       " 'micro',\n",
       " 'micron',\n",
       " 'mil',\n",
       " 'mile',\n",
       " 'milli',\n",
       " 'minute',\n",
       " 'mmHg',\n",
       " 'mph',\n",
       " 'mu_0',\n",
       " 'nano',\n",
       " 'nautical_mile',\n",
       " 'neutron_mass',\n",
       " 'nu2lambda',\n",
       " 'ounce',\n",
       " 'oz',\n",
       " 'parsec',\n",
       " 'pebi',\n",
       " 'peta',\n",
       " 'physical_constants',\n",
       " 'pi',\n",
       " 'pico',\n",
       " 'point',\n",
       " 'pound',\n",
       " 'pound_force',\n",
       " 'precision',\n",
       " 'proton_mass',\n",
       " 'psi',\n",
       " 'pt',\n",
       " 'short_ton',\n",
       " 'sigma',\n",
       " 'slinch',\n",
       " 'slug',\n",
       " 'speed_of_light',\n",
       " 'speed_of_sound',\n",
       " 'stone',\n",
       " 'survey_foot',\n",
       " 'survey_mile',\n",
       " 'tebi',\n",
       " 'tera',\n",
       " 'test',\n",
       " 'ton_TNT',\n",
       " 'torr',\n",
       " 'troy_ounce',\n",
       " 'troy_pound',\n",
       " 'u',\n",
       " 'unit',\n",
       " 'value',\n",
       " 'week',\n",
       " 'yard',\n",
       " 'year',\n",
       " 'yobi',\n",
       " 'yocto',\n",
       " 'yotta',\n",
       " 'zebi',\n",
       " 'zepto',\n",
       " 'zero_Celsius',\n",
       " 'zetta']"
      ]
     },
     "execution_count": 3,
     "metadata": {},
     "output_type": "execute_result"
    }
   ],
   "source": [
    "dir(scipy.constants)\n"
   ]
  },
  {
   "cell_type": "code",
   "execution_count": 4,
   "id": "fecc757a-8c39-4b33-aa63-96dd511f428a",
   "metadata": {},
   "outputs": [
    {
     "name": "stdout",
     "output_type": "stream",
     "text": [
      "1e+24\n",
      "1e+21\n",
      "1e+18\n",
      "1000000000000000.0\n",
      "1000000000000.0\n",
      "1000000000.0\n",
      "1000000.0\n",
      "1000.0\n",
      "100.0\n",
      "10.0\n",
      "0.1\n",
      "0.01\n",
      "0.001\n",
      "1e-06\n",
      "1e-09\n",
      "1e-12\n",
      "1e-15\n",
      "1e-18\n",
      "1e-21\n"
     ]
    }
   ],
   "source": [
    "print(scipy.constants.yotta)    #1e+24\n",
    "print(scipy.constants.zetta)    #1e+21\n",
    "print(scipy.constants.exa)      #1e+18\n",
    "print(scipy.constants.peta)     #1000000000000000.0\n",
    "print(scipy.constants.tera)     #1000000000000.0\n",
    "print(scipy.constants.giga)     #1000000000.0\n",
    "print(scipy.constants.mega)     #1000000.0\n",
    "print(scipy.constants.kilo)     #1000.0\n",
    "print(scipy.constants.hecto)    #100.0\n",
    "print(scipy.constants.deka)     #10.0\n",
    "print(scipy.constants.deci)     #0.1\n",
    "print(scipy.constants.centi)    #0.01\n",
    "print(scipy.constants.milli)    #0.001\n",
    "print(scipy.constants.micro)    #1e-06\n",
    "print(scipy.constants.nano)     #1e-09\n",
    "print(scipy.constants.pico)     #1e-12\n",
    "print(scipy.constants.femto)    #1e-15\n",
    "print(scipy.constants.atto)     #1e-18\n",
    "print(scipy.constants.zepto)    #1e-21\n"
   ]
  },
  {
   "cell_type": "code",
   "execution_count": 5,
   "id": "7f533366-b19b-490b-98c7-8b00774007d4",
   "metadata": {},
   "outputs": [
    {
     "name": "stdout",
     "output_type": "stream",
     "text": [
      "1024\n",
      "1048576\n",
      "1073741824\n",
      "1099511627776\n",
      "1125899906842624\n",
      "1152921504606846976\n",
      "1180591620717411303424\n",
      "1208925819614629174706176\n"
     ]
    }
   ],
   "source": [
    "print(scipy.constants.kibi)    #1024\n",
    "print(scipy.constants.mebi)    #1048576\n",
    "print(scipy.constants.gibi)    #1073741824\n",
    "print(scipy.constants.tebi)    #1099511627776\n",
    "print(scipy.constants.pebi)    #1125899906842624\n",
    "print(scipy.constants.exbi)    #1152921504606846976\n",
    "print(scipy.constants.zebi)    #1180591620717411303424\n",
    "print(scipy.constants.yobi)    #1208925819614629174706176\n"
   ]
  },
  {
   "cell_type": "code",
   "execution_count": 6,
   "id": "bedd22b1-38c4-4800-8544-9b1b1435dbb0",
   "metadata": {},
   "outputs": [
    {
     "name": "stdout",
     "output_type": "stream",
     "text": [
      "0.001\n",
      "1000.0\n",
      "6.479891e-05\n",
      "0.45359236999999997\n",
      "0.45359236999999997\n",
      "0.028349523124999998\n",
      "0.028349523124999998\n",
      "6.3502931799999995\n",
      "1016.0469088\n",
      "907.1847399999999\n",
      "0.031103476799999998\n",
      "0.37324172159999996\n",
      "0.0002\n",
      "1.6605390666e-27\n",
      "1.6605390666e-27\n",
      "1.6605390666e-27\n"
     ]
    }
   ],
   "source": [
    "print(scipy.constants.gram)        #0.001\n",
    "print(scipy.constants.metric_ton)  #1000.0\n",
    "print(scipy.constants.grain)       #6.479891e-05\n",
    "print(scipy.constants.lb)          #0.45359236999999997\n",
    "print(scipy.constants.pound)       #0.45359236999999997\n",
    "print(scipy.constants.oz)          #0.028349523124999998\n",
    "print(scipy.constants.ounce)       #0.028349523124999998\n",
    "print(scipy.constants.stone)       #6.3502931799999995\n",
    "print(scipy.constants.long_ton)    #1016.0469088\n",
    "print(scipy.constants.short_ton)   #907.1847399999999\n",
    "print(scipy.constants.troy_ounce)  #0.031103476799999998\n",
    "print(scipy.constants.troy_pound)  #0.37324172159999996\n",
    "print(scipy.constants.carat)       #0.0002\n",
    "print(scipy.constants.atomic_mass) #1.66053904e-27\n",
    "print(scipy.constants.m_u)         #1.66053904e-27\n",
    "print(scipy.constants.u)           #1.66053904e-27\n"
   ]
  },
  {
   "cell_type": "code",
   "execution_count": 7,
   "id": "3dcc94df-19e7-4b10-809f-05787950fb80",
   "metadata": {},
   "outputs": [
    {
     "name": "stdout",
     "output_type": "stream",
     "text": [
      "0.017453292519943295\n",
      "0.0002908882086657216\n",
      "0.0002908882086657216\n",
      "4.84813681109536e-06\n",
      "4.84813681109536e-06\n"
     ]
    }
   ],
   "source": [
    "print(scipy.constants.degree)     #0.017453292519943295\n",
    "print(scipy.constants.arcmin)     #0.0002908882086657216\n",
    "print(scipy.constants.arcminute)  #0.0002908882086657216\n",
    "print(scipy.constants.arcsec)     #4.84813681109536e-06\n",
    "print(scipy.constants.arcsecond)  #4.84813681109536e-06\n"
   ]
  },
  {
   "cell_type": "code",
   "execution_count": 8,
   "id": "45e45d21-7050-4169-b299-eb7611341845",
   "metadata": {},
   "outputs": [
    {
     "name": "stdout",
     "output_type": "stream",
     "text": [
      "60.0\n",
      "3600.0\n",
      "86400.0\n",
      "604800.0\n",
      "31536000.0\n",
      "31557600.0\n"
     ]
    }
   ],
   "source": [
    "print(scipy.constants.minute)      #60.0\n",
    "print(scipy.constants.hour)        #3600.0\n",
    "print(scipy.constants.day)         #86400.0\n",
    "print(scipy.constants.week)        #604800.0\n",
    "print(scipy.constants.year)        #31536000.0\n",
    "print(scipy.constants.Julian_year) #31557600.0\n"
   ]
  },
  {
   "cell_type": "code",
   "execution_count": 9,
   "id": "10a66488-bbff-4f28-9465-8bed3145266c",
   "metadata": {},
   "outputs": [
    {
     "name": "stdout",
     "output_type": "stream",
     "text": [
      "0.0254\n",
      "0.30479999999999996\n",
      "0.9143999999999999\n",
      "1609.3439999999998\n",
      "2.5399999999999997e-05\n",
      "0.00035277777777777776\n",
      "0.00035277777777777776\n",
      "0.3048006096012192\n",
      "1609.3472186944373\n",
      "1852.0\n",
      "1e-15\n",
      "1e-10\n",
      "1e-06\n",
      "149597870700.0\n",
      "149597870700.0\n",
      "9460730472580800.0\n",
      "3.085677581491367e+16\n"
     ]
    }
   ],
   "source": [
    "print(scipy.constants.inch)              #0.0254\n",
    "print(scipy.constants.foot)              #0.30479999999999996\n",
    "print(scipy.constants.yard)              #0.9143999999999999\n",
    "print(scipy.constants.mile)              #1609.3439999999998\n",
    "print(scipy.constants.mil)               #2.5399999999999997e-05\n",
    "print(scipy.constants.pt)                #0.00035277777777777776\n",
    "print(scipy.constants.point)             #0.00035277777777777776\n",
    "print(scipy.constants.survey_foot)       #0.3048006096012192\n",
    "print(scipy.constants.survey_mile)       #1609.3472186944373\n",
    "print(scipy.constants.nautical_mile)     #1852.0\n",
    "print(scipy.constants.fermi)             #1e-15\n",
    "print(scipy.constants.angstrom)          #1e-10\n",
    "print(scipy.constants.micron)            #1e-06\n",
    "print(scipy.constants.au)                #149597870691.0\n",
    "print(scipy.constants.astronomical_unit) #149597870691.0\n",
    "print(scipy.constants.light_year)        #9460730472580800.0\n",
    "print(scipy.constants.parsec)            #3.0856775813057292e+16\n"
   ]
  },
  {
   "cell_type": "code",
   "execution_count": 10,
   "id": "97acdf29-be93-48f1-8ba1-23fb2626c857",
   "metadata": {},
   "outputs": [
    {
     "name": "stdout",
     "output_type": "stream",
     "text": [
      "10000.0\n",
      "4046.8564223999992\n"
     ]
    }
   ],
   "source": [
    "print(scipy.constants.hectare) #10000.0\n",
    "print(scipy.constants.acre)    #4046.8564223999992\n"
   ]
  },
  {
   "cell_type": "code",
   "execution_count": 11,
   "id": "6ed9bbb1-1a44-4fb8-a02e-cbcbb2b1f781",
   "metadata": {},
   "outputs": [
    {
     "name": "stdout",
     "output_type": "stream",
     "text": [
      "0.001\n",
      "0.001\n",
      "0.0037854117839999997\n",
      "0.0037854117839999997\n",
      "0.00454609\n",
      "2.9573529562499998e-05\n",
      "2.9573529562499998e-05\n",
      "2.84130625e-05\n",
      "0.15898729492799998\n",
      "0.15898729492799998\n"
     ]
    }
   ],
   "source": [
    "print(scipy.constants.liter)            #0.001\n",
    "print(scipy.constants.litre)            #0.001\n",
    "print(scipy.constants.gallon)           #0.0037854117839999997\n",
    "print(scipy.constants.gallon_US)        #0.0037854117839999997\n",
    "print(scipy.constants.gallon_imp)       #0.00454609\n",
    "print(scipy.constants.fluid_ounce)      #2.9573529562499998e-05\n",
    "print(scipy.constants.fluid_ounce_US)   #2.9573529562499998e-05\n",
    "print(scipy.constants.fluid_ounce_imp)  #2.84130625e-05\n",
    "print(scipy.constants.barrel)           #0.15898729492799998\n",
    "print(scipy.constants.bbl)              #0.15898729492799998\n"
   ]
  },
  {
   "cell_type": "code",
   "execution_count": 12,
   "id": "e023bcf0-c337-4cc6-b665-a61a962d9bf2",
   "metadata": {},
   "outputs": [
    {
     "name": "stdout",
     "output_type": "stream",
     "text": [
      "0.2777777777777778\n",
      "0.44703999999999994\n",
      "340.5\n",
      "340.5\n",
      "0.5144444444444445\n"
     ]
    }
   ],
   "source": [
    "print(scipy.constants.kmh)            #0.2777777777777778\n",
    "print(scipy.constants.mph)            #0.44703999999999994\n",
    "print(scipy.constants.mach)           #340.5\n",
    "print(scipy.constants.speed_of_sound) #340.5\n",
    "print(scipy.constants.knot)           #0.5144444444444445\n"
   ]
  },
  {
   "cell_type": "code",
   "execution_count": 13,
   "id": "469d8239-e1a3-4ae6-be5a-5bbfa71e0daa",
   "metadata": {},
   "outputs": [
    {
     "name": "stdout",
     "output_type": "stream",
     "text": [
      "273.15\n",
      "0.5555555555555556\n"
     ]
    }
   ],
   "source": [
    "print(scipy.constants.zero_Celsius)      #273.15\n",
    "print(scipy.constants.degree_Fahrenheit) #0.5555555555555556\n"
   ]
  },
  {
   "cell_type": "code",
   "execution_count": 14,
   "id": "fc71af52-df7b-4865-8e9d-c498af359ffe",
   "metadata": {},
   "outputs": [
    {
     "name": "stdout",
     "output_type": "stream",
     "text": [
      "1.602176634e-19\n",
      "1.602176634e-19\n",
      "4.184\n",
      "4.184\n",
      "4.1868\n",
      "1e-07\n",
      "1055.05585262\n",
      "1055.05585262\n",
      "1054.3502644888888\n",
      "4184000000.0\n"
     ]
    }
   ],
   "source": [
    "print(scipy.constants.eV)            #1.6021766208e-19\n",
    "print(scipy.constants.electron_volt) #1.6021766208e-19\n",
    "print(scipy.constants.calorie)       #4.184\n",
    "print(scipy.constants.calorie_th)    #4.184\n",
    "print(scipy.constants.calorie_IT)    #4.1868\n",
    "print(scipy.constants.erg)           #1e-07\n",
    "print(scipy.constants.Btu)           #1055.05585262\n",
    "print(scipy.constants.Btu_IT)        #1055.05585262\n",
    "print(scipy.constants.Btu_th)        #1054.3502644888888\n",
    "print(scipy.constants.ton_TNT)       #4184000000.0\n"
   ]
  },
  {
   "cell_type": "code",
   "execution_count": 16,
   "id": "ebdf86a1-54da-437c-a6a4-668409ca85ba",
   "metadata": {},
   "outputs": [
    {
     "name": "stdout",
     "output_type": "stream",
     "text": [
      "745.6998715822701\n",
      "745.6998715822701\n"
     ]
    }
   ],
   "source": [
    "print(scipy.constants.hp)         #745.6998715822701\n",
    "print(scipy.constants.horsepower) #745.6998715822701\n"
   ]
  },
  {
   "cell_type": "code",
   "execution_count": 17,
   "id": "ffc7081c-910f-40b2-b3aa-755462d77c76",
   "metadata": {},
   "outputs": [
    {
     "name": "stdout",
     "output_type": "stream",
     "text": [
      "Area of Circle: 78.53981633974483\n",
      "Gravitational force: 3.3371499999999998e-09\n"
     ]
    }
   ],
   "source": [
    "# Area of a circle using\n",
    "# scipy.constants.pi\n",
    "def Area_of_Circle(r):\n",
    "    return scipy.constants.pi * r * r\n",
    " \n",
    "# Calculates the gravitational force\n",
    "# (Gravitational constant * (Mass body 1) * (Mass body 2)) / (distance^2)\n",
    "# scipy.constants.G\n",
    "def force_gravity(M, m, dist):\n",
    "    return (scipy.constants.G*M*m) / (dist**2)\n",
    " \n",
    " \n",
    "print(f'Area of Circle: {Area_of_Circle(5)}')\n",
    "print(f'Gravitational force: {force_gravity(10,5,1)}')\n"
   ]
  },
  {
   "cell_type": "code",
   "execution_count": 18,
   "id": "85986b78-c4fb-4de0-9ede-3339058206d5",
   "metadata": {},
   "outputs": [
    {
     "data": {
      "text/plain": [
       "<1x9 sparse matrix of type '<class 'numpy.int64'>'\n",
       "\twith 3 stored elements in Compressed Sparse Row format>"
      ]
     },
     "execution_count": 18,
     "metadata": {},
     "output_type": "execute_result"
    }
   ],
   "source": [
    "# python3 -m pip instally numpy\n",
    "import numpy as np\n",
    "# create an array of mostly 0's\n",
    "arr = np.array([0, 0, 0, 0, 0, 1, 1, 0, 2])\n",
    "\n",
    "# Create a CSR matrix\n",
    "scipy.sparse.csr_matrix(arr)\n"
   ]
  },
  {
   "cell_type": "code",
   "execution_count": 19,
   "id": "471d8784-bd11-498a-bedf-5bfe42399d8f",
   "metadata": {},
   "outputs": [
    {
     "ename": "SyntaxError",
     "evalue": "invalid syntax (213918519.py, line 1)",
     "output_type": "error",
     "traceback": [
      "\u001b[0;36m  Cell \u001b[0;32mIn [19], line 1\u001b[0;36m\u001b[0m\n\u001b[0;31m    (0, 5)\t1    # item is in row 0 position 5 and has a value of 1\u001b[0m\n\u001b[0m          \t^\u001b[0m\n\u001b[0;31mSyntaxError\u001b[0m\u001b[0;31m:\u001b[0m invalid syntax\n"
     ]
    }
   ],
   "source": [
    "(0, 5)\t1    # item is in row 0 position 5 and has a value of 1\n",
    "(0, 6)\t1    # item is in row 0 position 6 and has a value of 1\n",
    "(0, 8)\t2    # item is in row 0 position 8 and has a value of 2\n"
   ]
  },
  {
   "cell_type": "code",
   "execution_count": 20,
   "id": "ffb1ce31-a158-40fd-8594-fb03e7244602",
   "metadata": {},
   "outputs": [
    {
     "data": {
      "text/plain": [
       "array([1, 1, 2])"
      ]
     },
     "execution_count": 20,
     "metadata": {},
     "output_type": "execute_result"
    }
   ],
   "source": [
    "arr = np.array([[0, 0, 0], [0, 0, 1], [1, 0, 2]])\n",
    "scipy.sparse.csr_matrix(arr).data  \n"
   ]
  },
  {
   "cell_type": "code",
   "execution_count": 21,
   "id": "f7eaed70-7062-4b2c-9f2a-03c4b7c71dbf",
   "metadata": {},
   "outputs": [
    {
     "data": {
      "text/plain": [
       "3"
      ]
     },
     "execution_count": 21,
     "metadata": {},
     "output_type": "execute_result"
    }
   ],
   "source": [
    "scipy.sparse.csr_matrix(arr).count_nonzero()\n"
   ]
  },
  {
   "cell_type": "code",
   "execution_count": 22,
   "id": "71f4cdfa-ba04-4d01-8f4a-6829a62096f2",
   "metadata": {},
   "outputs": [
    {
     "name": "stdout",
     "output_type": "stream",
     "text": [
      "  (1, 2)\t1\n",
      "  (2, 0)\t1\n",
      "  (2, 2)\t2\n"
     ]
    }
   ],
   "source": [
    "mat = scipy.sparse.csr_matrix(arr)\n",
    "# trash all the 0 values\n",
    "mat.eliminate_zeros()\n",
    "\n",
    "# display the remaining data\n",
    "print(mat)\n"
   ]
  },
  {
   "cell_type": "code",
   "execution_count": 23,
   "id": "5b61ff72-5d70-4192-966e-88dfb445cc25",
   "metadata": {},
   "outputs": [
    {
     "data": {
      "text/plain": [
       "<3x3 sparse matrix of type '<class 'numpy.int64'>'\n",
       "\twith 3 stored elements in Compressed Sparse Row format>"
      ]
     },
     "execution_count": 23,
     "metadata": {},
     "output_type": "execute_result"
    }
   ],
   "source": [
    "mat = scipy.sparse.csr_matrix(arr)\n",
    "mat.sum_duplicates()\n",
    "mat\n"
   ]
  },
  {
   "cell_type": "code",
   "execution_count": 24,
   "id": "f062f6ae-f4ec-425d-8b72-ffa951999947",
   "metadata": {},
   "outputs": [
    {
     "data": {
      "text/plain": [
       "<3x3 sparse matrix of type '<class 'numpy.int64'>'\n",
       "\twith 3 stored elements in Compressed Sparse Column format>"
      ]
     },
     "execution_count": 24,
     "metadata": {},
     "output_type": "execute_result"
    }
   ],
   "source": [
    "newarr = scipy.sparse.csr_matrix(arr).tocsc()\n",
    "\n",
    "newarr\n"
   ]
  },
  {
   "cell_type": "code",
   "execution_count": null,
   "id": "c3d23739-607e-44c0-990d-668a74dc847f",
   "metadata": {},
   "outputs": [],
   "source": []
  }
 ],
 "metadata": {
  "kernelspec": {
   "display_name": "Python 3 (ipykernel)",
   "language": "python",
   "name": "python3"
  },
  "language_info": {
   "codemirror_mode": {
    "name": "ipython",
    "version": 3
   },
   "file_extension": ".py",
   "mimetype": "text/x-python",
   "name": "python",
   "nbconvert_exporter": "python",
   "pygments_lexer": "ipython3",
   "version": "3.10.6"
  }
 },
 "nbformat": 4,
 "nbformat_minor": 5
}
