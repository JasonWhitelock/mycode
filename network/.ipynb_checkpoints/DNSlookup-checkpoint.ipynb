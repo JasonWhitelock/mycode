{
 "cells": [
  {
   "cell_type": "code",
   "execution_count": 6,
   "id": "3a70fd44-6de8-4e6f-bafa-b4d38d310049",
   "metadata": {},
   "outputs": [
    {
     "name": "stdin",
     "output_type": "stream",
     "text": [
      "Enter:  www.apple.com\n"
     ]
    },
    {
     "name": "stdout",
     "output_type": "stream",
     "text": [
      "www.apple.com\n",
      "Server:\t\t10.0.0.1\n",
      "Address:\t10.0.0.1#53\n",
      "\n",
      "Non-authoritative answer:\n",
      "www.apple.com\tcanonical name = www.apple.com.edgekey.net.\n",
      "www.apple.com.edgekey.net\tcanonical name = www.apple.com.edgekey.net.globalredir.akadns.net.\n",
      "www.apple.com.edgekey.net.globalredir.akadns.net\tcanonical name = e6858.dscx.akamaiedge.net.\n",
      "Name:\te6858.dscx.akamaiedge.net\n",
      "Address: 173.223.56.252\n",
      "Name:\te6858.dscx.akamaiedge.net\n",
      "Address: 2600:141b:13:a99::1aca\n",
      "Name:\te6858.dscx.akamaiedge.net\n",
      "Address: 2600:141b:13:a93::1aca\n",
      "\n",
      "0\n"
     ]
    }
   ],
   "source": [
    "import os\n",
    "a=input(\"Enter: \")\n",
    "print(a)\n",
    "print (os.system('nslookup ' +a))"
   ]
  },
  {
   "cell_type": "code",
   "execution_count": null,
   "id": "64f9662a-29aa-4abb-ba8a-14e251fa41b9",
   "metadata": {},
   "outputs": [],
   "source": []
  }
 ],
 "metadata": {
  "kernelspec": {
   "display_name": "Python 3 (ipykernel)",
   "language": "python",
   "name": "python3"
  },
  "language_info": {
   "codemirror_mode": {
    "name": "ipython",
    "version": 3
   },
   "file_extension": ".py",
   "mimetype": "text/x-python",
   "name": "python",
   "nbconvert_exporter": "python",
   "pygments_lexer": "ipython3",
   "version": "3.10.6"
  }
 },
 "nbformat": 4,
 "nbformat_minor": 5
}
