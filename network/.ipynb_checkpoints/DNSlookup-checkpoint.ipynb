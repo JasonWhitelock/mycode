{
 "cells": [
  {
   "cell_type": "code",
   "execution_count": 3,
   "id": "3a70fd44-6de8-4e6f-bafa-b4d38d310049",
   "metadata": {},
   "outputs": [
    {
     "name": "stdin",
     "output_type": "stream",
     "text": [
      "Enter:  142.251.32.100\n"
     ]
    },
    {
     "name": "stdout",
     "output_type": "stream",
     "text": [
      "142.251.32.100\n",
      "100.32.251.142.in-addr.arpa\tname = lga25s77-in-f4.1e100.net.\n",
      "\n",
      "Authoritative answers can be found from:\n",
      "\n",
      "0\n"
     ]
    }
   ],
   "source": [
    "import os\n",
    "a=input(\"Enter: \")\n",
    "print(a)\n",
    "print (os.system('nslookup ' +a))"
   ]
  },
  {
   "cell_type": "code",
   "execution_count": null,
   "id": "64f9662a-29aa-4abb-ba8a-14e251fa41b9",
   "metadata": {},
   "outputs": [],
   "source": []
  }
 ],
 "metadata": {
  "kernelspec": {
   "display_name": "Python 3 (ipykernel)",
   "language": "python",
   "name": "python3"
  },
  "language_info": {
   "codemirror_mode": {
    "name": "ipython",
    "version": 3
   },
   "file_extension": ".py",
   "mimetype": "text/x-python",
   "name": "python",
   "nbconvert_exporter": "python",
   "pygments_lexer": "ipython3",
   "version": "3.10.6"
  }
 },
 "nbformat": 4,
 "nbformat_minor": 5
}
