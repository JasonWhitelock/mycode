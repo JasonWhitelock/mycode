{
 "cells": [
  {
   "cell_type": "code",
   "execution_count": 1,
   "id": "26229bba-9d41-4769-b4d4-93116e3368b2",
   "metadata": {},
   "outputs": [],
   "source": [
    "def text2paragraphs(filename, min_size=1):\n",
    "    \"\"\" A text contained in the file 'filename' will be read \n",
    "    and chopped into paragraphs.\n",
    "    Paragraphs with a string length less than min_size will be ignored.\n",
    "    A list of paragraph strings will be returned\"\"\"\n",
    "    \n",
    "    txt = open(filename).read()\n",
    "    paragraphs = [para for para in txt.split(\"\\n\\n\") if len(para) > min_size]\n",
    "    return paragraphs\n"
   ]
  },
  {
   "cell_type": "code",
   "execution_count": 2,
   "id": "d8051a8f-4974-4d3d-b51f-d11ed22cd7dd",
   "metadata": {},
   "outputs": [],
   "source": [
    "# the position of lables is very important\n",
    "# it corresponds to a novel by that author within \"files\"\n",
    "# the position of the author is also relevant, as it will correspond to metrics\n",
    "# i.e. Samuel Butler's metrics are always returned in position 1\n",
    "labels = ['Virginia Woolf', 'Samuel Butler', 'Herman Melville', \n",
    "          'David Herbert Lawrence', 'Daniel Defoe', 'James Joyce']\n",
    "\n",
    "\n",
    "# names of books we have to train our machine model\n",
    "files = ['night_and_day_virginia_woolf.txt', 'the_way_of_all_flash_butler.txt',\n",
    "         'moby_dick_melville.txt', 'sons_and_lovers_lawrence.txt',\n",
    "         'robinson_crusoe_defoe.txt', 'james_joyce_ulysses.txt']\n",
    "\n",
    "# location of our books\n",
    "path = \"books/\"\n"
   ]
  },
  {
   "cell_type": "code",
   "execution_count": 3,
   "id": "c934f52e-6b56-4f18-a317-ae451fc7f697",
   "metadata": {},
   "outputs": [],
   "source": [
    "data = []\n",
    "targets = []\n",
    "counter = 0\n",
    "\n",
    "# loop across all files we have downloaded\n",
    "for fname in files:\n",
    "    paras = text2paragraphs(path + fname, min_size=150) # return a book with paragraphs over 150 chars in a list\n",
    "    data.extend(paras)\n",
    "    targets += [counter] * len(paras)\n",
    "    counter += 1\n"
   ]
  },
  {
   "cell_type": "code",
   "execution_count": 4,
   "id": "6b67a30d-a893-4a0b-a89f-3025cdc968cf",
   "metadata": {},
   "outputs": [],
   "source": [
    "# cell is useless, because train_test_split will do the shuffling!\n",
    "\n",
    "import random\n",
    "\n",
    "data_targets = list(zip(data, targets))\n",
    "# create random permutation on list:\n",
    "data_targets = random.sample(data_targets, len(data_targets))\n",
    "\n",
    "data, targets = list(zip(*data_targets))\n"
   ]
  },
  {
   "cell_type": "code",
   "execution_count": 5,
   "id": "a9289845-881c-4c75-9447-6fef1d30f465",
   "metadata": {},
   "outputs": [],
   "source": [
    "from sklearn.model_selection import train_test_split\n",
    "\n",
    "res = train_test_split(data, targets, \n",
    "                       train_size=0.8,\n",
    "                       test_size=0.2,\n",
    "                       random_state=42)\n",
    "train_data, test_data, train_targets, test_targets = res \n"
   ]
  },
  {
   "cell_type": "code",
   "execution_count": 6,
   "id": "9d537139-cc0c-44c7-876a-2e47ae867153",
   "metadata": {},
   "outputs": [
    {
     "name": "stdout",
     "output_type": "stream",
     "text": [
      "accuracy score:  0.9227000544365814\n",
      "F1-score:  0.9178544256400646\n"
     ]
    }
   ],
   "source": [
    "from sklearn.feature_extraction.text import CountVectorizer, ENGLISH_STOP_WORDS\n",
    "\n",
    "from sklearn.naive_bayes import MultinomialNB\n",
    "from sklearn import metrics\n",
    "\n",
    "vectorizer = CountVectorizer(stop_words=ENGLISH_STOP_WORDS)\n",
    "\n",
    "vectors = vectorizer.fit_transform(train_data)\n",
    "\n",
    "# creating a classifier\n",
    "classifier = MultinomialNB(alpha=.01)\n",
    "classifier.fit(vectors, train_targets)\n",
    "\n",
    "vectors_test = vectorizer.transform(test_data)\n",
    "\n",
    "predictions = classifier.predict(vectors_test)\n",
    "accuracy_score = metrics.accuracy_score(test_targets, \n",
    "                                        predictions)\n",
    "f1_score = metrics.f1_score(test_targets, \n",
    "                            predictions, \n",
    "                            average='macro')\n",
    "\n",
    "print(\"accuracy score: \", accuracy_score)\n",
    "print(\"F1-score: \", f1_score)\n"
   ]
  },
  {
   "cell_type": "code",
   "execution_count": 7,
   "id": "cc30f5c5-f1e2-45e0-b474-125d63985577",
   "metadata": {},
   "outputs": [
    {
     "name": "stdout",
     "output_type": "stream",
     "text": [
      "[5 0 0 5 0 0 2 0 2 5 0 0 0 0 0 0 0 0 1 0 1 0 0 5 1 5 0 1 0 0 0 0 5 2 2 5 0\n",
      " 2 2 5 0 0 0 0 0 3 0 0 0 0 2 0 2 5 2 0 0 0 0 1 0 0 5 3 3 2 0 0 0 0 5 2 5 0\n",
      " 0 0 0 0 0 2 2 0 2 2 2 2 5 5 0 5 1 0 0 0 0 5 1 0 5 0 0 3 5 5 2 5 0 5 5 0 5\n",
      " 0 0 0 3 0 0 3 2 2 0 0 5 0 1 5 2 2 5 1 0 5 0 0 0 0 0 5 1 5 0 0 0 0 5 2 0 0\n",
      " 0 0 5 0 0 5 5 1 0 1 1 0 0 0 0 1 0 5 0 1 0 0 0 5 3 5 5 0 2 0 0 0 0 0 0 0 5\n",
      " 5 0 0 0 0 0 0 0 0 0 0 0 1 0 0 0 0 1 5 5 0 0 0 5 5 5 2 0 5 0 5 3 0 0 0 5 0\n",
      " 0 0 2 0 0 0 0 2 3 0 0 0 0 5 0 0 5 3 5 1 0 5 5 5 5 0 5 0 1 0 1 0 0 0 0 1 3\n",
      " 1 1 0 5 5 5 5 2 5 0 0 0 5 0 2 2 0 1 0 0 0 0 0 0 0 0 4 0 2 0 0 1 0 0 0 0 1\n",
      " 1 0 5 5 5 0 5 1 0 0 0 0 5 0 0 0 0 5 3 0 3 0 0 0 0 0 0 0 0 0 3 0 0 0 0 0 5\n",
      " 3 3 5 0 3 0 0 0 1 0 1 0 0 3 0 2 0 3 0 0 1 1 0 0 0 0 0 3 0 0 0 2 2 2 3 0 0\n",
      " 1 1 0 0 0 0 0 0 0 0 0 0 0 0 3 3 0 0 0 0 1 5 0 0 5 0 0 0 0 0]\n",
      "accuracy score:  0.5875\n",
      "precision score:  0.5875\n",
      "F1-score:  0.12335958005249344\n"
     ]
    }
   ],
   "source": [
    "# we want to use paragraphs from this 2nd Virginia Wolf \n",
    "paras = text2paragraphs(path + \"the_voyage_out_virginia_woolf.txt\", min_size=250)\n",
    "\n",
    "# start on paragraph 100 and go to paragraph 500\n",
    "first_para, last_para = 100, 500\n",
    "vectors_test = vectorizer.transform(paras[first_para: last_para]) # pass a list of strings that will be used to make predictions against\n",
    "#vectors_test = vectorizer.transform([\"To be or not to be\"])\n",
    "\n",
    "predictions = classifier.predict(vectors_test) # make our predictions\n",
    "print(predictions)\n",
    "targets = [0] * (last_para - first_para)\n",
    "accuracy_score = metrics.accuracy_score(targets, \n",
    "                                        predictions)\n",
    "precision_score = metrics.precision_score(targets, \n",
    "                                          predictions, \n",
    "                                          average='macro')\n",
    "\n",
    "f1_score = metrics.f1_score(targets, \n",
    "                            predictions, \n",
    "                            average='macro')\n",
    "\n",
    "print(\"accuracy score: \", accuracy_score)\n",
    "print(\"precision score: \", accuracy_score)\n",
    "print(\"F1-score: \", f1_score)\n"
   ]
  },
  {
   "cell_type": "code",
   "execution_count": 8,
   "id": "8d51d062-2da0-4b56-bc95-f3a34bb11cdd",
   "metadata": {},
   "outputs": [
    {
     "name": "stdout",
     "output_type": "stream",
     "text": [
      "[[4.53996778e-005 3.30516175e-006 2.28281847e-007 2.56260328e-007\n",
      "  2.63908128e-016 9.99950811e-001]\n",
      " [9.90942859e-001 1.87349064e-006 5.16175017e-003 2.25796438e-011\n",
      "  1.00232845e-017 3.89351703e-003]\n",
      " [9.99870516e-001 2.52643506e-011 3.70172549e-014 5.04303810e-010\n",
      "  3.21424032e-016 1.29483876e-004]\n",
      " ...\n",
      " [1.00000000e+000 3.61928906e-010 3.73007318e-032 5.73076833e-020\n",
      "  3.61739448e-042 4.40613574e-032]\n",
      " [9.99998550e-001 1.45026975e-006 2.55592935e-020 2.24580195e-040\n",
      "  9.81140334e-056 1.63018368e-014]\n",
      " [1.00000000e+000 1.70814440e-043 4.81585250e-065 4.47776733e-082\n",
      "  2.05298749e-109 3.85623676e-059]]\n"
     ]
    }
   ],
   "source": [
    "# perform a probability test\n",
    "predictions = classifier.predict_proba(vectors_test)\n",
    "print(predictions)\n"
   ]
  },
  {
   "cell_type": "code",
   "execution_count": 9,
   "id": "efa902eb-d968-46ad-8a85-16009fa44621",
   "metadata": {},
   "outputs": [
    {
     "name": "stdout",
     "output_type": "stream",
     "text": [
      "[4.53996778e-05 3.30516175e-06 2.28281847e-07 2.56260328e-07\n",
      " 2.63908128e-16 9.99950811e-01] \"That's the painful thing about pets,\" said Mr. Dalloway; \"they die. The\n",
      "first sorrow I can remember was for the death of a dormouse. I regret to\n",
      "say that I sat upon it. Still, that didn't make one any the less sorry.\n",
      "Here lies the duck that Samuel Johnson sat on, eh? I was big for my\n",
      "age.\"\n",
      "[9.90942859e-01 1.87349064e-06 5.16175017e-03 2.25796438e-11\n",
      " 1.00232845e-17 3.89351703e-03] \"Please tell me--everything.\" That was what she wanted to say. He had\n",
      "drawn apart one little chink and showed astonishing treasures. It seemed\n",
      "to her incredible that a man like that should be willing to talk to her.\n",
      "He had sisters and pets, and once lived in the country. She stirred her\n",
      "tea round and round; the bubbles which swam and clustered in the cup\n",
      "seemed to her like the union of their minds.\n",
      "[9.99870516e-01 2.52643506e-11 3.70172549e-14 5.04303810e-10\n",
      " 3.21424032e-16 1.29483876e-04] The talk meanwhile raced past her, and when Richard suddenly stated in a\n",
      "jocular tone of voice, \"I'm sure Miss Vinrace, now, has secret leanings\n",
      "towards Catholicism,\" she had no idea what to answer, and Helen could\n",
      "not help laughing at the start she gave.\n",
      "[4.90708263e-05 2.20153059e-08 7.70496319e-16 1.62506237e-04\n",
      " 2.43071960e-22 9.99788401e-01] However, breakfast was over and Mrs. Dalloway was rising. \"I always\n",
      "think religion's like collecting beetles,\" she said, summing up the\n",
      "discussion as she went up the stairs with Helen. \"One person has a\n",
      "passion for black beetles; another hasn't; it's no good arguing about\n",
      "it. What's _your_ black beetle now?\"\n",
      "[1.00000000e+00 1.53939590e-46 2.39131956e-36 8.32544607e-30\n",
      " 4.13382391e-72 4.13809001e-33] It was as though a blue shadow had fallen across a pool. Their eyes\n",
      "became deeper, and their voices more cordial. Instead of joining them\n",
      "as they began to pace the deck, Rachel was indignant with the prosperous\n",
      "matrons, who made her feel outside their world and motherless, and\n",
      "turning back, she left them abruptly. She slammed the door of her room,\n",
      "and pulled out her music. It was all old music--Bach and Beethoven,\n",
      "Mozart and Purcell--the pages yellow, the engraving rough to the finger.\n",
      "In three minutes she was deep in a very difficult, very classical fugue\n",
      "in A, and over her face came a queer remote impersonal expression of\n",
      "complete absorption and anxious satisfaction. Now she stumbled; now she\n",
      "faltered and had to play the same bar twice over; but an invisible\n",
      "line seemed to string the notes together, from which rose a shape,\n",
      "a building. She was so far absorbed in this work, for it was really\n",
      "difficult to find how all these sounds should stand together, and drew\n",
      "upon the whole of her faculties, that she never heard a knock at the\n",
      "door. It was burst impulsively open, and Mrs. Dalloway stood in the room\n",
      "leaving the door open, so that a strip of the white deck and of the blue\n",
      "sea appeared through the opening. The shape of the Bach fugue crashed to\n",
      "the ground.\n",
      "[3.66047653e-01 2.93309416e-01 3.65249076e-08 4.16027285e-03\n",
      " 3.74276929e-21 3.36482621e-01] \"He wrote awfully well, didn't he?\" said Clarissa; \"--if one likes\n",
      "that kind of thing--finished his sentences and all that. _Wuthering_\n",
      "_Heights_! Ah--that's more in my line. I really couldn't exist without\n",
      "the Brontes! Don't you love them? Still, on the whole, I'd rather live\n",
      "without them than without Jane Austen.\"\n",
      "[3.07217576e-04 2.24344811e-16 9.94160889e-01 1.45304782e-08\n",
      " 5.93703115e-26 5.53187922e-03] How divine!--and yet what nonsense!\" She looked lightly round the room.\n",
      "\"I always think it's _living_, not dying, that counts. I really respect\n",
      "some snuffy old stockbroker who's gone on adding up column after column\n",
      "all his days, and trotting back to his villa at Brixton with some old\n",
      "pug dog he worships, and a dreary little wife sitting at the end of the\n",
      "table, and going off to Margate for a fortnight--I assure you I know\n",
      "heaps like that--well, they seem to me _really_ nobler than poets whom\n",
      "every one worships, just because they're geniuses and die young. But I\n",
      "don't expect _you_ to agree with me!\"\n",
      "[8.53419790e-01 1.44733126e-01 4.22636931e-10 4.08904131e-05\n",
      " 1.06559709e-10 1.80619300e-03] \"When you're my age you'll see that the world is _crammed_ with\n",
      "delightful things. I think young people make such a mistake about\n",
      "that--not letting themselves be happy. I sometimes think that happiness\n",
      "is the only thing that counts. I don't know you well enough to say, but\n",
      "I should guess you might be a little inclined to--when one's young and\n",
      "attractive--I'm going to say it!--_every_thing's at one's feet.\" She\n",
      "glanced round as much as to say, \"not only a few stuffy books and Bach.\"\n",
      "[5.41996741e-11 2.95258397e-16 9.99997127e-01 4.65244952e-13\n",
      " 2.87336715e-06 6.48710810e-14] The shores of Portugal were beginning to lose their substance; but\n",
      "the land was still the land, though at a great distance. They could\n",
      "distinguish the little towns that were sprinkled in the folds of the\n",
      "hills, and the smoke rising faintly. The towns appeared to be very small\n",
      "in comparison with the great purple mountains behind them.\n",
      "[6.67068724e-03 1.91713100e-08 8.98637818e-02 1.37213094e-05\n",
      " 6.67245000e-13 9.03451791e-01] Rachel followed her eyes and found that they rested for a second, on the\n",
      "robust figure of Richard Dalloway, who was engaged in striking a match\n",
      "on the sole of his boot; while Willoughby expounded something, which\n",
      "seemed to be of great interest to them both.\n"
     ]
    }
   ],
   "source": [
    "for i in range(0, 10):\n",
    "    print(predictions[i], paras[i+first_para])\n"
   ]
  },
  {
   "cell_type": "code",
   "execution_count": null,
   "id": "be13958c-262d-4ab4-9018-fb04ca00bda5",
   "metadata": {},
   "outputs": [],
   "source": []
  }
 ],
 "metadata": {
  "kernelspec": {
   "display_name": "Python 3 (ipykernel)",
   "language": "python",
   "name": "python3"
  },
  "language_info": {
   "codemirror_mode": {
    "name": "ipython",
    "version": 3
   },
   "file_extension": ".py",
   "mimetype": "text/x-python",
   "name": "python",
   "nbconvert_exporter": "python",
   "pygments_lexer": "ipython3",
   "version": "3.10.6"
  }
 },
 "nbformat": 4,
 "nbformat_minor": 5
}
